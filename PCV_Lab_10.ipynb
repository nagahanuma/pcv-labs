{
  "nbformat": 4,
  "nbformat_minor": 0,
  "metadata": {
    "colab": {
      "name": "PCV_Lab_10.ipynb",
      "provenance": [],
      "collapsed_sections": []
    },
    "kernelspec": {
      "name": "python3",
      "display_name": "Python 3"
    },
    "language_info": {
      "name": "python"
    }
  },
  "cells": [
    {
      "cell_type": "markdown",
      "source": [
        "<h1><b>Perception and Computer Vision</b></h1>"
      ],
      "metadata": {
        "id": "RV7i81R0XLWN"
      }
    },
    {
      "cell_type": "markdown",
      "source": [
        "**<h2>Morphological Operations</h2>**"
      ],
      "metadata": {
        "id": "0JVAykemiSZc"
      }
    },
    {
      "cell_type": "code",
      "execution_count": null,
      "metadata": {
        "id": "9hurIbPkHriu"
      },
      "outputs": [],
      "source": [
        "import cv2\n",
        "from google.colab.patches import cv2_imshow\n",
        "\n",
        "import numpy as np\n",
        "%matplotlib inline\n",
        "import matplotlib.pyplot as plt"
      ]
    },
    {
      "cell_type": "code",
      "source": [
        "img = cv2.imread('bw_image.png', 0)\n",
        "cv2_imshow(img)"
      ],
      "metadata": {
        "colab": {
          "base_uri": "https://localhost:8080/",
          "height": 167
        },
        "id": "kIJgYtpAH-1E",
        "outputId": "4c4db594-5949-41d7-e8f9-59c897bbd29a"
      },
      "execution_count": null,
      "outputs": [
        {
          "output_type": "display_data",
          "data": {
            "text/plain": [
              "<PIL.Image.Image image mode=L size=112x150 at 0x7FC8CA854210>"
            ],
            "image/png": "[encoded data removed]"
          },
          "metadata": {}
        }
      ]
    },
    {
      "cell_type": "code",
      "source": [
        "kernel = np.ones((4,4), np.uint8)"
      ],
      "metadata": {
        "id": "o66tiuoqkpNf"
      },
      "execution_count": null,
      "outputs": []
    },
    {
      "cell_type": "markdown",
      "source": [
        "# **1. Erosin**"
      ],
      "metadata": {
        "id": "LJkNewOLjxS8"
      }
    },
    {
      "cell_type": "code",
      "source": [
        "erosion = cv2.erode(img, kernel, iterations=1)\n",
        "cv2_imshow(erosion)"
      ],
      "metadata": {
        "colab": {
          "base_uri": "https://localhost:8080/",
          "height": 167
        },
        "id": "lz3E7-80jv2j",
        "outputId": "9adc7a6e-3de8-48ec-ed21-3095ad68fbf4"
      },
      "execution_count": null,
      "outputs": [
        {
          "output_type": "display_data",
          "data": {
            "text/plain": [
              "<PIL.Image.Image image mode=L size=112x150 at 0x7FC8CA88D390>"
            ],
            "image/png": "[encoded data removed]"
          },
          "metadata": {}
        }
      ]
    },
    {
      "cell_type": "markdown",
      "source": [
        "# **2. Dilation**"
      ],
      "metadata": {
        "id": "3ayncLDzkQ5C"
      }
    },
    {
      "cell_type": "code",
      "source": [
        "dilation = cv2.dilate(img, kernel, iterations=1)\n",
        "cv2_imshow(dilation)"
      ],
      "metadata": {
        "colab": {
          "base_uri": "https://localhost:8080/",
          "height": 167
        },
        "id": "IF-OVuN8kT26",
        "outputId": "63dc926b-768c-404f-8af0-e3935f56386b"
      },
      "execution_count": null,
      "outputs": [
        {
          "output_type": "display_data",
          "data": {
            "text/plain": [
              "<PIL.Image.Image image mode=L size=112x150 at 0x7FC8CA195110>"
            ],
            "image/png": "[encoded data removed]"
          },
          "metadata": {}
        }
      ]
    },
    {
      "cell_type": "markdown",
      "source": [
        "# **3. Opening**"
      ],
      "metadata": {
        "id": "eO0aocicktCr"
      }
    },
    {
      "cell_type": "code",
      "source": [
        "img2 = cv2.imread('bw_noise.png', 0)\n",
        "cv2_imshow(img2)"
      ],
      "metadata": {
        "colab": {
          "base_uri": "https://localhost:8080/",
          "height": 167
        },
        "id": "uw5m2ki9lSnU",
        "outputId": "5649b3a5-b837-4898-86e6-f2d23daf91fc"
      },
      "execution_count": null,
      "outputs": [
        {
          "output_type": "display_data",
          "data": {
            "text/plain": [
              "<PIL.Image.Image image mode=L size=110x150 at 0x7FC8CA195B50>"
            ],
            "image/png": "[encoded data removed]"
          },
          "metadata": {}
        }
      ]
    },
    {
      "cell_type": "code",
      "source": [
        "opening = cv2.morphologyEx(img2, cv2.MORPH_OPEN, kernel)\n",
        "cv2_imshow(opening)"
      ],
      "metadata": {
        "colab": {
          "base_uri": "https://localhost:8080/",
          "height": 167
        },
        "id": "wXrBE4GBkvvb",
        "outputId": "ae1d43d8-c776-419a-cea3-59ea61c7c69e"
      },
      "execution_count": null,
      "outputs": [
        {
          "output_type": "display_data",
          "data": {
            "text/plain": [
              "<PIL.Image.Image image mode=L size=110x150 at 0x7FC8CA183E90>"
            ],
            "image/png": "[encoded data removed]"
          },
          "metadata": {}
        }
      ]
    },
    {
      "cell_type": "markdown",
      "source": [
        "# **4. Closing**"
      ],
      "metadata": {
        "id": "tVystJ7Sl3_V"
      }
    },
    {
      "cell_type": "code",
      "source": [
        "img3 = cv2.imread('bw_holes.png', 0)\n",
        "cv2_imshow(img3)"
      ],
      "metadata": {
        "colab": {
          "base_uri": "https://localhost:8080/",
          "height": 167
        },
        "id": "Y9iumOsol6sC",
        "outputId": "632fc23f-96e9-48e6-8d9f-a172b525937e"
      },
      "execution_count": null,
      "outputs": [
        {
          "output_type": "display_data",
          "data": {
            "text/plain": [
              "<PIL.Image.Image image mode=L size=110x150 at 0x7FC8CA516050>"
            ],
            "image/png": "[encoded data removed]"
          },
          "metadata": {}
        }
      ]
    },
    {
      "cell_type": "code",
      "source": [
        "closing = cv2.morphologyEx(img3, cv2.MORPH_CLOSE, kernel)\n",
        "cv2_imshow(closing)"
      ],
      "metadata": {
        "colab": {
          "base_uri": "https://localhost:8080/",
          "height": 167
        },
        "id": "5rv7PXX_mNOC",
        "outputId": "8ce840a6-0747-484c-e159-9a28cdd30adb"
      },
      "execution_count": null,
      "outputs": [
        {
          "output_type": "display_data",
          "data": {
            "text/plain": [
              "<PIL.Image.Image image mode=L size=110x150 at 0x7FC8CA4CA9D0>"
            ],
            "image/png": "[encoded data removed]"
          },
          "metadata": {}
        }
      ]
    },
    {
      "cell_type": "markdown",
      "source": [
        "# **5. Morphological Gradient**"
      ],
      "metadata": {
        "id": "URY6sE3jmUcc"
      }
    },
    {
      "cell_type": "code",
      "source": [
        "gradient = cv2.morphologyEx(img, cv2.MORPH_GRADIENT, kernel)\n",
        "cv2_imshow(gradient)"
      ],
      "metadata": {
        "colab": {
          "base_uri": "https://localhost:8080/",
          "height": 167
        },
        "id": "-BPWr-YtmSnM",
        "outputId": "e061d398-65ee-4624-8e51-18d97b46fcd8"
      },
      "execution_count": null,
      "outputs": [
        {
          "output_type": "display_data",
          "data": {
            "text/plain": [
              "<PIL.Image.Image image mode=L size=112x150 at 0x7FC8CA232410>"
            ],
            "image/png": "[encoded data removed]"
          },
          "metadata": {}
        }
      ]
    },
    {
      "cell_type": "markdown",
      "source": [
        "# **6. Top Hat**"
      ],
      "metadata": {
        "id": "BRMtVmUPmhVE"
      }
    },
    {
      "cell_type": "code",
      "source": [
        "tophat = cv2.morphologyEx(img, cv2.MORPH_TOPHAT, kernel)\n",
        "cv2_imshow(tophat)"
      ],
      "metadata": {
        "colab": {
          "base_uri": "https://localhost:8080/",
          "height": 167
        },
        "id": "Yqgg06nmmlRj",
        "outputId": "9f87e035-ec88-4c44-e245-b911df51b881"
      },
      "execution_count": null,
      "outputs": [
        {
          "output_type": "display_data",
          "data": {
            "text/plain": [
              "<PIL.Image.Image image mode=L size=112x150 at 0x7FC8CA1FBED0>"
            ],
            "image/png": "[encoded data removed]"
          },
          "metadata": {}
        }
      ]
    },
    {
      "cell_type": "markdown",
      "source": [
        "# **7. Black Hat**"
      ],
      "metadata": {
        "id": "KB64EntOmwbT"
      }
    },
    {
      "cell_type": "code",
      "source": [
        "blackhat = cv2.morphologyEx(img, cv2.MORPH_BLACKHAT, kernel)\n",
        "cv2_imshow(blackhat)"
      ],
      "metadata": {
        "colab": {
          "base_uri": "https://localhost:8080/",
          "height": 167
        },
        "id": "vvsYyNeZmzr8",
        "outputId": "978d8cbd-8822-4d8f-dd10-350ec017f6ba"
      },
      "execution_count": null,
      "outputs": [
        {
          "output_type": "display_data",
          "data": {
            "text/plain": [
              "<PIL.Image.Image image mode=L size=112x150 at 0x7FC8CA1EAD10>"
            ],
            "image/png": "[encoded data removed]"
          },
          "metadata": {}
        }
      ]
    }
  ]
}