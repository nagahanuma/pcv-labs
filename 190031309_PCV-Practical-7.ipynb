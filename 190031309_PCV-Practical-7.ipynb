{
 "cells": [
  {
   "cell_type": "code",
   "execution_count": 2,
   "metadata": {},
   "outputs": [
    {
     "name": "stdout",
     "output_type": "stream",
     "text": [
      "Collecting package metadata (current_repodata.json): ...working... done\n",
      "Solving environment: ...working... failed with initial frozen solve. Retrying with flexible solve.\n",
      "Collecting package metadata (repodata.json): ...working... done\n",
      "Solving environment: ...working... failed with initial frozen solve. Retrying with flexible solve.\n",
      "\n",
      "Note: you may need to restart the kernel to use updated packages.\n"
     ]
    },
    {
     "name": "stderr",
     "output_type": "stream",
     "text": [
      "\n",
      "PackagesNotFoundError: The following packages are not available from current channels:\n",
      "\n",
      "  - tensor\n",
      "\n",
      "Current channels:\n",
      "\n",
      "  - https://repo.anaconda.com/pkgs/main/win-64\n",
      "  - https://repo.anaconda.com/pkgs/main/noarch\n",
      "  - https://repo.anaconda.com/pkgs/r/win-64\n",
      "  - https://repo.anaconda.com/pkgs/r/noarch\n",
      "  - https://repo.anaconda.com/pkgs/msys2/win-64\n",
      "  - https://repo.anaconda.com/pkgs/msys2/noarch\n",
      "\n",
      "To search for alternate channels that may provide the conda package you're\n",
      "looking for, navigate to\n",
      "\n",
      "    https://anaconda.org\n",
      "\n",
      "and use the search bar at the top of the page.\n",
      "\n",
      "\n"
     ]
    }
   ],
   "source": [
    "conda install tensor"
   ]
  },
  {
   "cell_type": "code",
   "execution_count": 3,
   "metadata": {},
   "outputs": [
    {
     "ename": "NameError",
     "evalue": "name 'TensorLike' is not defined",
     "output_type": "error",
     "traceback": [
      "\u001b[1;31m---------------------------------------------------------------------------\u001b[0m",
      "\u001b[1;31mNameError\u001b[0m                                 Traceback (most recent call last)",
      "\u001b[1;32m<ipython-input-3-06df7bf70e1c>\u001b[0m in \u001b[0;36m<module>\u001b[1;34m\u001b[0m\n\u001b[1;32m----> 1\u001b[1;33m \u001b[1;32mdef\u001b[0m \u001b[0m_sharpness_image\u001b[0m\u001b[1;33m(\u001b[0m\u001b[0mimage\u001b[0m\u001b[1;33m:\u001b[0m \u001b[0mTensorLike\u001b[0m\u001b[1;33m,\u001b[0m \u001b[0mfactor\u001b[0m\u001b[1;33m:\u001b[0m \u001b[0mNumber\u001b[0m\u001b[1;33m)\u001b[0m \u001b[1;33m->\u001b[0m \u001b[0mtf\u001b[0m\u001b[1;33m.\u001b[0m\u001b[0mTensor\u001b[0m\u001b[1;33m:\u001b[0m\u001b[1;33m\u001b[0m\u001b[1;33m\u001b[0m\u001b[0m\n\u001b[0m\u001b[0;32m      2\u001b[0m     \u001b[1;34m\"\"\"Implements Sharpness function from PIL using TF ops.\"\"\"\u001b[0m\u001b[1;33m\u001b[0m\u001b[1;33m\u001b[0m\u001b[0m\n\u001b[0;32m      3\u001b[0m     \u001b[0morig_image\u001b[0m \u001b[1;33m=\u001b[0m \u001b[0mimage\u001b[0m\u001b[1;33m\u001b[0m\u001b[1;33m\u001b[0m\u001b[0m\n\u001b[0;32m      4\u001b[0m     \u001b[0mimage_dtype\u001b[0m \u001b[1;33m=\u001b[0m \u001b[0mimage\u001b[0m\u001b[1;33m.\u001b[0m\u001b[0mdtype\u001b[0m\u001b[1;33m\u001b[0m\u001b[1;33m\u001b[0m\u001b[0m\n\u001b[0;32m      5\u001b[0m     \u001b[0mimage_channels\u001b[0m \u001b[1;33m=\u001b[0m \u001b[0mimage\u001b[0m\u001b[1;33m.\u001b[0m\u001b[0mshape\u001b[0m\u001b[1;33m[\u001b[0m\u001b[1;33m-\u001b[0m\u001b[1;36m1\u001b[0m\u001b[1;33m]\u001b[0m\u001b[1;33m\u001b[0m\u001b[1;33m\u001b[0m\u001b[0m\n",
      "\u001b[1;31mNameError\u001b[0m: name 'TensorLike' is not defined"
     ]
    }
   ],
   "source": [
    "def _sharpness_image(image: TensorLike, factor: Number) -> tf.Tensor:\n",
    "    \"\"\"Implements Sharpness function from PIL using TF ops.\"\"\"\n",
    "    orig_image = image\n",
    "    image_dtype = image.dtype\n",
    "    image_channels = image.shape[-1]\n",
    "    image = tf.cast(image, tf.float32)\n",
    "\n",
    "    # SMOOTH PIL Kernel.\n",
    "    kernel = (\n",
    "        tf.constant(\n",
    "            [[1, 1, 1], [1, 5, 1], [1, 1, 1]], dtype=tf.float32, shape=[3, 3, 1, 1]\n",
    "        )\n",
    "        / 13.0\n",
    "    )\n",
    "    kernel = tf.tile(kernel, [1, 1, image_channels, 1])\n",
    "\n",
    "    # Apply kernel channel-wise.\n",
    "    degenerate = tf.nn.depthwise_conv2d(\n",
    "        image, kernel, strides=[1, 1, 1, 1], padding=\"VALID\", dilations=[1, 1]\n",
    "    )\n",
    "    degenerate = tf.cast(degenerate, image_dtype)\n",
    "\n",
    "    # For the borders of the resulting image, fill in the values of the original image.\n",
    "    mask = tf.ones_like(degenerate)\n",
    "    padded_mask = tf.pad(mask, [[0, 0], [1, 1], [1, 1], [0, 0]])\n",
    "    padded_degenerate = tf.pad(degenerate, [[0, 0], [1, 1], [1, 1], [0, 0]])\n",
    "    result = tf.where(tf.equal(padded_mask, 1), padded_degenerate, orig_image)\n",
    "\n",
    "    # Blend the final result.\n",
    "    blended = blend(result, orig_image, factor)\n",
    "    return tf.cast(blended, image_dtype)\n",
    "\n",
    "\n",
    "@tf.function\n",
    "def sharpness(image: TensorLike, factor: Number, name: Optional[str] = None) -> tf.Tensor:\n",
    "    \"\"\"Change sharpness of image(s).\n",
    "    Args:\n",
    "      image: A tensor of shape\n",
    "          `(num_images, num_rows, num_columns, num_channels)` (NHWC), or\n",
    "          `(num_rows, num_columns, num_channels)` (HWC)\n",
    "      factor: A floating point value or Tensor above 0.0.\n",
    "      name: The name of the op.\n",
    "    Returns:\n",
    "      Image(s) with the same type and shape as `images`, sharper.\n",
    "    \"\"\"\n",
    "    with tf.name_scope(name or \"sharpness\"):\n",
    "        image_dims = tf.rank(image)\n",
    "        image = to_4D_image(image)\n",
    "        image = _sharpness_image(image, factor=factor)\n",
    "        return from_4D_image(image, image_dims)"
   ]
  },
  {
   "cell_type": "code",
   "execution_count": null,
   "metadata": {},
   "outputs": [],
   "source": []
  }
 ],
 "metadata": {
  "kernelspec": {
   "display_name": "Python 3",
   "language": "python",
   "name": "python3"
  },
  "language_info": {
   "codemirror_mode": {
    "name": "ipython",
    "version": 3
   },
   "file_extension": ".py",
   "mimetype": "text/x-python",
   "name": "python",
   "nbconvert_exporter": "python",
   "pygments_lexer": "ipython3",
   "version": "3.8.5"
  }
 },
 "nbformat": 4,
 "nbformat_minor": 4
}
